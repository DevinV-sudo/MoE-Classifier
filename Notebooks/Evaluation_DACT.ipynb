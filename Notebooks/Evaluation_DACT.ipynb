{
 "cells": [
  {
   "cell_type": "markdown",
   "id": "fe15026f-04cc-4ec8-855b-ed0ec75078ef",
   "metadata": {},
   "source": [
    "# Evaluation:\n",
    "---\n"
   ]
  },
  {
   "cell_type": "code",
   "execution_count": 2,
   "id": "cbe8fd97-ef66-4da5-ac94-b730e0b556c1",
   "metadata": {},
   "outputs": [],
   "source": [
    "#imports\n",
    "import sys\n",
    "import os\n",
    "import time\n",
    "import logging\n",
    "import json\n",
    "\n",
    "# Add project root to sys.path\n",
    "script_dir = os.path.dirname(os.path.abspath(\"__main__\"))\n",
    "project_root = os.path.dirname(script_dir)\n",
    "sys.path.append(project_root)\n",
    "\n",
    "#data loader imports\n",
    "from Dataset.data_loaders import create_dataloaders\n",
    "\n",
    "#import dact-bert\n",
    "from Models.DACT_BERT import DACT_BERT\n",
    "from Models.VanillaBert import VanillaBert\n",
    "from Models.DactBert.dact_bert import TrainingEngine, DactBert"
   ]
  },
  {
   "cell_type": "code",
   "execution_count": 8,
   "id": "a0db958b-0745-44f4-9f97-c1a5982b9b83",
   "metadata": {},
   "outputs": [
    {
     "ename": "FileNotFoundError",
     "evalue": "[Errno 2] No such file or directory: './gpfs/home/dvliet/MoE_RAG_Classifier/Models/SubModelConfigs/classifier_configs/classifier_config_TUNED.json'",
     "output_type": "error",
     "traceback": [
      "\u001b[0;31m---------------------------------------------------------------------------\u001b[0m",
      "\u001b[0;31mFileNotFoundError\u001b[0m                         Traceback (most recent call last)",
      "Cell \u001b[0;32mIn[8], line 6\u001b[0m\n\u001b[1;32m      3\u001b[0m \u001b[38;5;66;03m# Example of using the path to open the file (assuming it's a JSON file)\u001b[39;00m\n\u001b[1;32m      4\u001b[0m \u001b[38;5;28;01mimport\u001b[39;00m \u001b[38;5;21;01mjson\u001b[39;00m\n\u001b[0;32m----> 6\u001b[0m \u001b[38;5;28;01mwith\u001b[39;00m \u001b[38;5;28;43mopen\u001b[39;49m\u001b[43m(\u001b[49m\u001b[43mfile_path\u001b[49m\u001b[43m,\u001b[49m\u001b[43m \u001b[49m\u001b[38;5;124;43m'\u001b[39;49m\u001b[38;5;124;43mr\u001b[39;49m\u001b[38;5;124;43m'\u001b[39;49m\u001b[43m)\u001b[49m \u001b[38;5;28;01mas\u001b[39;00m file:\n\u001b[1;32m      7\u001b[0m     config_data \u001b[38;5;241m=\u001b[39m json\u001b[38;5;241m.\u001b[39mload(file)\n\u001b[1;32m      9\u001b[0m \u001b[38;5;28mprint\u001b[39m(config_data)\n",
      "File \u001b[0;32m/packages/miniconda-t2/20230523/envs/jupyter-cuda121-20230610/lib/python3.8/site-packages/IPython/core/interactiveshell.py:284\u001b[0m, in \u001b[0;36m_modified_open\u001b[0;34m(file, *args, **kwargs)\u001b[0m\n\u001b[1;32m    277\u001b[0m \u001b[38;5;28;01mif\u001b[39;00m file \u001b[38;5;129;01min\u001b[39;00m {\u001b[38;5;241m0\u001b[39m, \u001b[38;5;241m1\u001b[39m, \u001b[38;5;241m2\u001b[39m}:\n\u001b[1;32m    278\u001b[0m     \u001b[38;5;28;01mraise\u001b[39;00m \u001b[38;5;167;01mValueError\u001b[39;00m(\n\u001b[1;32m    279\u001b[0m         \u001b[38;5;124mf\u001b[39m\u001b[38;5;124m\"\u001b[39m\u001b[38;5;124mIPython won\u001b[39m\u001b[38;5;124m'\u001b[39m\u001b[38;5;124mt let you open fd=\u001b[39m\u001b[38;5;132;01m{\u001b[39;00mfile\u001b[38;5;132;01m}\u001b[39;00m\u001b[38;5;124m by default \u001b[39m\u001b[38;5;124m\"\u001b[39m\n\u001b[1;32m    280\u001b[0m         \u001b[38;5;124m\"\u001b[39m\u001b[38;5;124mas it is likely to crash IPython. If you know what you are doing, \u001b[39m\u001b[38;5;124m\"\u001b[39m\n\u001b[1;32m    281\u001b[0m         \u001b[38;5;124m\"\u001b[39m\u001b[38;5;124myou can use builtins\u001b[39m\u001b[38;5;124m'\u001b[39m\u001b[38;5;124m open.\u001b[39m\u001b[38;5;124m\"\u001b[39m\n\u001b[1;32m    282\u001b[0m     )\n\u001b[0;32m--> 284\u001b[0m \u001b[38;5;28;01mreturn\u001b[39;00m \u001b[43mio_open\u001b[49m\u001b[43m(\u001b[49m\u001b[43mfile\u001b[49m\u001b[43m,\u001b[49m\u001b[43m \u001b[49m\u001b[38;5;241;43m*\u001b[39;49m\u001b[43margs\u001b[49m\u001b[43m,\u001b[49m\u001b[43m \u001b[49m\u001b[38;5;241;43m*\u001b[39;49m\u001b[38;5;241;43m*\u001b[39;49m\u001b[43mkwargs\u001b[49m\u001b[43m)\u001b[49m\n",
      "\u001b[0;31mFileNotFoundError\u001b[0m: [Errno 2] No such file or directory: './gpfs/home/dvliet/MoE_RAG_Classifier/Models/SubModelConfigs/classifier_configs/classifier_config_TUNED.json'"
     ]
    }
   ],
   "source": [
    "file_path = './gpfs/home/dvliet/MoE_RAG_Classifier/Models/SubModelConfigs/classifier_configs/classifier_config_TUNED.json'\n",
    "\n",
    "# Example of using the path to open the file (assuming it's a JSON file)\n",
    "import json\n",
    "\n",
    "with open(file_path, 'r') as file:\n",
    "    config_data = json.load(file)\n",
    "\n",
    "print(config_data)"
   ]
  },
  {
   "cell_type": "code",
   "execution_count": null,
   "id": "4530aceb-3fc3-4ed0-92bb-0bd83595b553",
   "metadata": {},
   "outputs": [],
   "source": [
    "#preloaded configs\n",
    "'/gpfs/home/dvliet/MoE_RAG_Classifier/Notebooks'\n",
    "'/gpfs/home/dvliet/MoE_RAG_Classifier/Models/SubModelConfigs/classifier_configs/classifier_config_TUNED.json\n",
    "#Initialize Dact Bert\n",
    "dact_model = DactBert("
   ]
  }
 ],
 "metadata": {
  "kernelspec": {
   "display_name": "Python 3 (ipykernel)",
   "language": "python",
   "name": "python3"
  },
  "language_info": {
   "codemirror_mode": {
    "name": "ipython",
    "version": 3
   },
   "file_extension": ".py",
   "mimetype": "text/x-python",
   "name": "python",
   "nbconvert_exporter": "python",
   "pygments_lexer": "ipython3",
   "version": "3.8.16"
  }
 },
 "nbformat": 4,
 "nbformat_minor": 5
}
