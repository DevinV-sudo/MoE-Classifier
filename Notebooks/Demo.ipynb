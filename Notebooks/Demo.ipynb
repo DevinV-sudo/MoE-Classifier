{
 "cells": [
  {
   "cell_type": "code",
   "execution_count": 5,
   "id": "3c3b3041-ac10-4697-a117-4cdf77a1a91a",
   "metadata": {},
   "outputs": [],
   "source": [
    "#imports\n",
    "import numpy as np\n",
    "import pandas as pd\n",
    "\n",
    "#torch imports\n",
    "import torch\n",
    "import torch.nn as nn\n",
    "from torch.utils.data import TensorDataset, DataLoader\n",
    "from early_stopping_pytorch import EarlyStopping\n",
    "\n",
    "\n",
    "#transformer imports\n",
    "from transformers import DistilBertModel, DistilBertTokenizer\n",
    "from transformers import DataCollatorWithPadding\n",
    "from transformers import DistilBertModel\n",
    "from transformers import pipeline\n",
    "\n",
    "#sklearn imports\n",
    "from sklearn.preprocessing import OneHotEncoder\n",
    "\n",
    "#plotting\n",
    "import matplotlib.pyplot as plt\n",
    "\n",
    "#misc. imports\n",
    "import sys\n",
    "import os\n",
    "from tqdm import tqdm\n",
    "import time\n",
    "import logging\n",
    "\n",
    "#set up logging config\n",
    "logging.basicConfig(\n",
    "    level=logging.DEBUG,\n",
    "    format='%(asctime)s - %(levelname)s - %(message)s',\n",
    "    handlers=[logging.StreamHandler()]\n",
    ")"
   ]
  },
  {
   "cell_type": "code",
   "execution_count": 11,
   "id": "8216fb46-dafb-41f9-83bf-513abb9bc241",
   "metadata": {},
   "outputs": [
    {
     "name": "stderr",
     "output_type": "stream",
     "text": [
      "2025-02-25 18:10:35,307 - INFO - PyTorch version 2.1.0.dev20230610 available.\n"
     ]
    }
   ],
   "source": [
    "# Add project root to sys.path\n",
    "script_dir = os.path.dirname(os.path.abspath(\"__main__\"))\n",
    "project_root = os.path.dirname(script_dir)\n",
    "sys.path.append(project_root)\n",
    "\n",
    "#data loader imports\n",
    "from Dataset.data_loaders import create_dataloaders"
   ]
  },
  {
   "cell_type": "code",
   "execution_count": 12,
   "id": "b77fc850-88f1-4286-b823-8ce9053a47d2",
   "metadata": {},
   "outputs": [
    {
     "name": "stderr",
     "output_type": "stream",
     "text": [
      "2025-02-25 18:12:30,075 - INFO - Loading tokenizer...\n",
      "\n",
      "2025-02-25 18:12:30,080 - DEBUG - Starting new HTTPS connection (1): huggingface.co:443\n",
      "2025-02-25 18:12:30,351 - DEBUG - https://huggingface.co:443 \"HEAD /distilbert-base-uncased/resolve/main/tokenizer_config.json HTTP/1.1\" 200 0\n",
      "2025-02-25 18:12:30,424 - INFO - Successfully loaded tokenizer.\n",
      "\n",
      "2025-02-25 18:12:30,425 - INFO - Loading Datasets...\n",
      "\n",
      "2025-02-25 18:12:30,426 - INFO - Checking Split Choice: Train...\n",
      "2025-02-25 18:12:30,427 - INFO - Selected valid split.\n",
      "\n",
      "2025-02-25 18:12:30,430 - INFO - Attempting to load data\n",
      "\n",
      "2025-02-25 18:12:30,454 - INFO - Successfully Loaded Dataset.\n",
      "\n",
      "2025-02-25 18:12:30,455 - INFO - Checking Split Choice: Valid...\n",
      "2025-02-25 18:12:30,456 - INFO - Selected valid split.\n",
      "\n",
      "2025-02-25 18:12:30,457 - INFO - Attempting to load data\n",
      "\n",
      "2025-02-25 18:12:30,491 - INFO - Successfully Loaded Dataset.\n",
      "\n",
      "2025-02-25 18:12:30,492 - INFO - Checking Split Choice: Test...\n",
      "2025-02-25 18:12:30,493 - INFO - Selected valid split.\n",
      "\n",
      "2025-02-25 18:12:30,494 - INFO - Attempting to load data\n",
      "\n",
      "2025-02-25 18:12:30,511 - INFO - Successfully Loaded Dataset.\n",
      "\n",
      "2025-02-25 18:12:30,512 - INFO - Successfully loaded datasets.\n",
      "\n",
      "2025-02-25 18:12:30,512 - INFO - Creating data loaders...\n",
      "\n",
      "2025-02-25 18:12:30,513 - INFO - Successfully created data loaders.\n",
      "\n"
     ]
    }
   ],
   "source": [
    "#generate dataloaders\n",
    "train_dataloader, valid_dataloader, test_dataloader = create_dataloaders(batch_size=64)"
   ]
  },
  {
   "cell_type": "code",
   "execution_count": 13,
   "id": "8da7163c-fc12-400b-9677-815eec579c7a",
   "metadata": {},
   "outputs": [],
   "source": [
    "class SimpleClassifierModel(nn.Module):\n",
    "    \n",
    "    def __init__(self, simplified_model, output_dim=3, dropout_rate=0.3):\n",
    "        super(SimpleClassifierModel, self).__init__()\n",
    "        \n",
    "        self.pretrained = simplified_model\n",
    "        self.activation = nn.LeakyReLU()\n",
    "        self.dropout_layer = nn.Dropout(dropout_rate)\n",
    "        self.linear_1 = nn.Linear(self.pretrained.config.hidden_size, 768)\n",
    "        self.linear_2 = nn.Linear(768, 256)\n",
    "        self.linear_3 = nn.Linear(256, output_dim)\n",
    "        self.layer_norm_1 = nn.BatchNorm1d(self.pretrained.config.hidden_size)\n",
    "        self.layer_norm_2 = nn.BatchNorm1d(256)\n",
    "        \n",
    "        \n",
    "    def forward(self, x):\n",
    "        #pretrained model out put, extracting the last hidden layer\n",
    "        initial_out = self.pretrained(input_ids = x[\"input_ids\"], attention_mask = x[\"attention_mask\"]).last_hidden_state[:,0,:]\n",
    "        \n",
    "        #first fully connected block\n",
    "        x = self.linear_1(initial_out)\n",
    "        x = self.layer_norm_1(x)\n",
    "        x = self.activation(x)\n",
    "        x = self.dropout_layer(x)\n",
    "\n",
    "        #second block\n",
    "        x = self.linear_2(x)\n",
    "        x = self.layer_norm_2(x)\n",
    "        x = self.activation(x)\n",
    "        x = self.dropout_layer(x)\n",
    "\n",
    "        #third block\n",
    "        output = self.linear_3(x)\n",
    "        return output"
   ]
  },
  {
   "cell_type": "code",
   "execution_count": null,
   "id": "8199022e-b5b0-4aa7-a3c7-0171cc73dc37",
   "metadata": {},
   "outputs": [],
   "source": []
  }
 ],
 "metadata": {
  "kernelspec": {
   "display_name": "Python 3 (ipykernel)",
   "language": "python",
   "name": "python3"
  },
  "language_info": {
   "codemirror_mode": {
    "name": "ipython",
    "version": 3
   },
   "file_extension": ".py",
   "mimetype": "text/x-python",
   "name": "python",
   "nbconvert_exporter": "python",
   "pygments_lexer": "ipython3",
   "version": "3.8.16"
  }
 },
 "nbformat": 4,
 "nbformat_minor": 5
}
